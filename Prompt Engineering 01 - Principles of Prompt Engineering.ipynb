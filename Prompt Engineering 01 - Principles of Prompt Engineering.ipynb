{
 "cells": [
  {
   "cell_type": "markdown",
   "id": "e9464591-377a-4d30-a4a8-5e1d76d80689",
   "metadata": {},
   "source": [
    "## Principles of Prompt Engineering\n",
    "### I. Write clear and specific instructions\n",
    "- **Tactic 1**: Use delimeters to clearly indicate distinct parts of the input. Those also help avoid prompt injections (a user's direct input to the prompt). \n",
    "    - Triple quotes: \"\"\"\n",
    "    - Triple brackticks: ```\n",
    "    - Triple dashes: ---\n",
    "    - Angle brackets: < >,\n",
    "    - XML tags: ```<tag> </tag>```\n",
    "- **Tactic 2**: Ask for structured ouput (e.g., json or HTML)\n",
    "- **Tactic 3**: Ask the model to check whether conditions are satisfied. Check assumptins required to do the task; if not tell the model how to handle this. Also, how should the model handle edge cases?\n",
    "- **Tactic 4**: Few shot prompting: Give examples of successful completing of the tasks. Then ask the model to perform the task.\n",
    "### II. Give the model time to \"think\"\n",
    "The model can make reasoning errors by rushing to an incorrect conculsion. You can encourage the model to spend more time (more computational resources) on the task. Sometimes we get better results when we explicitly instruct the model to reason from first principles before coming to a conclusion.\n",
    "\n",
    "## Model Limitations\n",
    "- Hallucinations: The model makes up statements that sound plausible but are not true.\n",
    "- To reduce hallucinations ask the model to first find relevant information, then to answer conditional on this information. "
   ]
  },
  {
   "cell_type": "code",
   "execution_count": 1,
   "id": "cdd4b827-f41c-48f8-a1f1-c092018f8368",
   "metadata": {},
   "outputs": [],
   "source": [
    "import openai\n",
    "import os\n",
    "\n",
    "from dotenv import load_dotenv, find_dotenv\n",
    "_ = load_dotenv(find_dotenv())\n",
    "openai.api_key = os.getenv(\"OPENAI_API_KEY\")\n",
    "\n",
    "# or you can specify api key directly without using dotenv by uncommenting the line below, \n",
    "# openai.api_key = \"sk-<get the rest from openai>\""
   ]
  },
  {
   "cell_type": "code",
   "execution_count": 2,
   "id": "773e4651-3c41-4ab5-9b26-7ba227fac74a",
   "metadata": {},
   "outputs": [],
   "source": [
    "def get_completion(prompt, model=\"gpt-4\", temp=0):\n",
    "    \"\"\"\n",
    "    Generate a text completion using the OpenAI API.\n",
    "\n",
    "    Parameters:\n",
    "        prompt (str): The user's prompt or input text.\n",
    "        model (str, optional): The model to use (default is \"gpt-4\").\n",
    "        temp (float, optional): The temperature parameter controlling randomness (default is 0).\n",
    "\n",
    "    Returns:\n",
    "        str: The generated text completion.\n",
    "    \"\"\"\n",
    "    messages = [\n",
    "        {\"role\": \"user\", \n",
    "         \"content\": prompt}\n",
    "    ]\n",
    "    response = openai.chat.completions.create(\n",
    "        model=model,\n",
    "        messages=messages,\n",
    "        temperature=temp  \n",
    "    )\n",
    "    return response.choices[0].message.content"
   ]
  },
  {
   "cell_type": "code",
   "execution_count": 3,
   "id": "c4eab633-249d-43cc-b45d-1a7b1071f1e9",
   "metadata": {},
   "outputs": [],
   "source": [
    "# Example input text\n",
    "input_text = f\"\"\"Introducing \"GreenEra: Your Eco-Friendly Companion\" - Revolutionizing Sustainability! \\\n",
    "In a world urgently needing eco-conscious solutions, GreenEra emerges as a \\\n",
    "pioneering startup reshaping our lifestyles. With a relentless commitment to \\\n",
    "sustainability, GreenEra simplifies conscious living. Our curated marketplace \\\n",
    "offers a wide range of eco-friendly products, while personalized recommendations \\\n",
    "align with your values. Access a wealth of knowledge in our educational hub and \\\n",
    "track your carbon footprint. Join our community for events and connect with \\\n",
    "like-minded individuals. With GreenEra, quality and impact converge, ensuring a \\\n",
    "brighter, greener future. Join us at [www.green-era.com](https://www.green-era.com) \\\n",
    "and embrace a sustainable lifestyle today.\"\"\"\n"
   ]
  },
  {
   "cell_type": "markdown",
   "id": "00bc1b32-a79e-41cb-9911-92d5bbd6a119",
   "metadata": {},
   "source": [
    "### Tactic 1: Use delimiters"
   ]
  },
  {
   "cell_type": "code",
   "execution_count": 4,
   "id": "45fe3d3e-ec2e-47c3-b059-fae007842e11",
   "metadata": {},
   "outputs": [
    {
     "name": "stdout",
     "output_type": "stream",
     "text": [
      "You didn't provide any text to summarize. Please provide the text you want summarized.\n"
     ]
    }
   ],
   "source": [
    "# What if you forget to provide the text? \n",
    "prompt0 = f\"\"\"Summarize the text delimited by triple backticks into a single sentence ``` ```\"\"\"\n",
    "response = get_completion(prompt0)\n",
    "print(response)"
   ]
  },
  {
   "cell_type": "code",
   "execution_count": 5,
   "id": "6c48a00c-2701-4c1d-ad9e-13c9281941a2",
   "metadata": {},
   "outputs": [
    {
     "name": "stdout",
     "output_type": "stream",
     "text": [
      "GreenEra is a pioneering startup offering a curated marketplace of eco-friendly products, personalized recommendations, an educational hub, and a community for like-minded individuals, all aimed at promoting sustainable living and reducing carbon footprint.\n"
     ]
    }
   ],
   "source": [
    "prompt1 = f\"\"\"Summarize the text delimited by triple backticks into a single sentence ```{input_text}```\"\"\"\n",
    "response = get_completion(prompt1)\n",
    "print(response)"
   ]
  },
  {
   "cell_type": "markdown",
   "id": "67b5ef06-633d-4289-913a-32d302f2e361",
   "metadata": {},
   "source": [
    "## Tactic 2: Ask for structured output\n",
    "For example, ask for a json output (which can be nicely read into a dictionary in Python downstream)"
   ]
  },
  {
   "cell_type": "code",
   "execution_count": 6,
   "id": "1fccb7b2-e823-4153-ac0c-b5308ab33c8a",
   "metadata": {},
   "outputs": [
    {
     "name": "stdout",
     "output_type": "stream",
     "text": [
      "[\n",
      "  {\n",
      "    \"headline\": \"Aliens Found Living Among Us: The Hidden Truth Unveiled\",\n",
      "    \"author\": \"Johnathan Doe\",\n",
      "    \"topic\": \"Extraterrestrial Life\"\n",
      "  },\n",
      "  {\n",
      "    \"headline\": \"Time Travel Now Possible: Scientist Discovers Breakthrough Method\",\n",
      "    \"author\": \"Jane Smith\",\n",
      "    \"topic\": \"Science and Technology\"\n",
      "  },\n",
      "  {\n",
      "    \"headline\": \"Atlantis Rediscovered: The Lost City Emerges from the Depths\",\n",
      "    \"author\": \"Robert Brown\",\n",
      "    \"topic\": \"Archaeology\"\n",
      "  }\n",
      "]\n"
     ]
    }
   ],
   "source": [
    "prompt2 = f\"\"\"Generate a list of three made-up news headlines along with the author \\\n",
    "and the topic. Provide them in a JSON format with the following keys: \\\n",
    "headline, author, topic.\"\"\"\n",
    "response = get_completion(prompt2)\n",
    "print(response)\n"
   ]
  },
  {
   "cell_type": "markdown",
   "id": "80c3896b-420a-4780-b0b6-95502db02bf0",
   "metadata": {},
   "source": [
    "### Tactic 3: Ask the model to check whether conditions are satisfied before completing the task"
   ]
  },
  {
   "cell_type": "code",
   "execution_count": 7,
   "id": "8160c74b-f557-4ede-83f5-7a9f8631201a",
   "metadata": {},
   "outputs": [
    {
     "name": "stdout",
     "output_type": "stream",
     "text": [
      "Step 1. Start with the basic ingredients: a tea bag or loose tea leaves, and boiling water.\n",
      "Step 2. Bring the water to a rolling boil in a kettle or on the stovetop.\n",
      "Step 3. Place a tea bag or a teaspoon of loose tea leaves into a cup.\n",
      "Step 4. Pour the boiling water over the tea bag or leaves.\n",
      "Step 5. Allow it to steep for 2-5 minutes, depending on how strong you want your tea.\n",
      "Step 6. Remove the tea bag or strain the tea if you used loose leaves.\n",
      "Step 7. Customize your cup of tea by adding sugar, milk, honey, or any other flavorings to suit your taste.\n",
      "Step 8. Give it a good stir.\n",
      "Step 9. Enjoy your freshly brewed cup of tea.\n",
      "Step 10. Remember to exercise caution when handling boiling water to prevent burns.\n"
     ]
    }
   ],
   "source": [
    "input_text = f\"\"\"he simplest way to make a cup of tea is to start with the basic ingredients: \\\n",
    "a tea bag or loose tea leaves, and boiling water. Begin by bringing the water to a rolling boil \\\n",
    "in a kettle or on the stovetop. Place a tea bag or a teaspoon of loose tea leaves into a cup. \\\n",
    "Then, pour the boiling water over the tea bag or leaves and allow it to steep for 2-5 minutes, \\\n",
    "depending on how strong you want your tea. Remove the tea bag or strain the tea if you used \\\n",
    "loose leaves. Finally, customize your cup of tea by adding sugar, milk, honey, or any other \\\n",
    "flavorings to suit your taste. Give it a good stir, and you're ready to enjoy your freshly brewed \n",
    "cup of tea. Just remember to exercise caution when handling boiling water to prevent burns.\"\"\"\n",
    "\n",
    "# create a function to accommodate different input_text sequences\n",
    "def prompt3(input_text):\n",
    "    prompt = f\"\"\" You will be provided with a text delimited by triple backticks. \\\n",
    "    If it contains a sequence of instructions, re-write them in the following format: \\\n",
    "    Step 1. \n",
    "    Step 2.\n",
    "    ...\n",
    "    Step N.\n",
    "    If the text does not contain a sequence of instrutions, then simply write \\\"No steps provided\\\".\n",
    "    ```{input_text}```\"\"\"\n",
    "    return prompt\n",
    "\n",
    "response = get_completion(prompt3(input_text))\n",
    "print(response)"
   ]
  },
  {
   "cell_type": "code",
   "execution_count": 8,
   "id": "fd659980-ba77-4113-a0fe-955e95442d49",
   "metadata": {},
   "outputs": [
    {
     "name": "stdout",
     "output_type": "stream",
     "text": [
      "Step 1. Ensure you have the following dependencies installed: Python 3.6+ PyTorch Transformers library (Hugging Face) XGBoost NumPy pandas scikit-learn scipy matplotlib tqdm RDKit.\n",
      "Step 2. Install these packages using Conda and pip.\n",
      "Step 3. If using Conda (recommended for RDKit), create a new Conda environment by typing \"conda create -n myenv python=3.7\" in your terminal. This step is optional.\n",
      "Step 4. Activate the Conda environment (if created) by typing \"conda activate myenv\" in your terminal.\n",
      "Step 5. Install RDKit by typing \"conda install -c conda-forge rdkit\" in your terminal.\n",
      "Step 6. Install the other packages by typing \"pip install torch transformers xgboost numpy pandas scikit-learn scipy matplotlib tqdm\" in your terminal.\n",
      "Step 7. Ensure proper installation of RDKit through Conda, which is a common practice in cheminformatics.\n",
      "Step 8. Make sure to create and activate a Conda environment as needed.\n"
     ]
    }
   ],
   "source": [
    "input_text = f\"\"\"Before running the notebooks, ensure you have the following dependencies installed: \\\n",
    "Python 3.6+ \\\n",
    "PyTorch \\\n",
    "Transformers library (Hugging Face) \\\n",
    "XGBoost \\\n",
    "NumPy \\\n",
    "pandas \\\n",
    "scikit-learn \\\n",
    "scipy \\\n",
    "matplotlib \\\n",
    "tqdm \\\n",
    "RDKit \\\n",
    "You can install these packages using Conda and pip: \\\n",
    "Using Conda (recommended for RDKit): \\\n",
    "conda create -n myenv python=3.7  # Create a new Conda environment (optional) \\\n",
    "conda activate myenv             # Activate the Conda environment (if created) \\\n",
    "conda install -c conda-forge rdkit \\\n",
    "pip install torch transformers xgboost numpy pandas scikit-learn scipy matplotlib tqdm \\\n",
    "This will ensure proper installation of RDKit through Conda, which is a common \\ \n",
    "practice in cheminformatics. Make sure to create and activate a Conda \\ environment as needed.\"\"\"\n",
    "\n",
    "response = get_completion(prompt3(input_text))\n",
    "print(response)"
   ]
  },
  {
   "cell_type": "code",
   "execution_count": 9,
   "id": "5d43c7db-d915-4a4f-ab13-d69b193dde18",
   "metadata": {},
   "outputs": [
    {
     "name": "stdout",
     "output_type": "stream",
     "text": [
      "No steps provided.\n"
     ]
    }
   ],
   "source": [
    "input_text = f\"\"\"This repository demonstrates the use of fine-tuning vs transfer learning \\\n",
    "for a regression task with ChemBERTa, a specialized BERT-like model applied to chemical SMILES data. \\\n",
    "SMILES (Simplified Molecular Input Line Entry System) is a notation for representing chemical \\\n",
    "structures as text. We explore when transfer learning might be more appropriate than fine-tuning \\\n",
    "ChemBERTa given our dataset, which is significantly smaller than the model's pre-training data \\\n",
    "(a few hundred vs 77 millions examples). The regression task is to predict the pIC50 values for \\\n",
    "inhibiting the catalytic activity of Dihydrofolate Reductase (DHFR) in homo sapiens. DHFR is a \\\n",
    "crucial enzyme in the folate metabolic pathway, and inhibiting its catalytic activity can disrupt \\\n",
    "the production of tetrahydrofolate, which is necessary for DNA synthesis. This disruption can slow down \\\n",
    "or prevent cancer cell replication, making DHFR an important target for cancer treatment. pIC50 is a \\\n",
    "measure of a substance's potency, representing the negative logarithm (base 10) of its Inhibitory \n",
    "Concentration at 50% (IC50).\"\"\"\n",
    "response = get_completion(prompt3(input_text))\n",
    "print(response)"
   ]
  },
  {
   "cell_type": "markdown",
   "id": "db5584af-3be1-4408-860b-b67abcacacd6",
   "metadata": {},
   "source": [
    "### Tactic 4: Few shot prompting\n",
    "Give the model a few examples or cues (usually one to a few sentences) that demonstrate of the task it needs to accomplish."
   ]
  },
  {
   "cell_type": "code",
   "execution_count": 10,
   "id": "d0e5f58f-0872-4711-a7ef-381c82a88a6d",
   "metadata": {},
   "outputs": [
    {
     "name": "stdout",
     "output_type": "stream",
     "text": [
      "<grandparent>: The mightiest oak in the forest was once a little nut that held its ground; the most majestic mountain has withstood the test of time and weather. The strongest steel is forged in the hottest fire.\n"
     ]
    }
   ],
   "source": [
    "prompt4 = f\"\"\"Your task is to answer in a consistant style.\n",
    "<child>: Teach me about patience.\n",
    "<grandparent>: The river that carves the deepest valley \\\n",
    "flows from the modest spring; \\\n",
    "the grandest symphony originates from a single note. \\\n",
    "the most intricate tapestry begins with a solitary thread.\\\n",
    "<child>: Teach me about resilience.\n",
    "\"\"\"\n",
    "response = get_completion(prompt4)\n",
    "print(response)"
   ]
  },
  {
   "cell_type": "code",
   "execution_count": 11,
   "id": "c5d1d426-1c0e-463a-b0a6-b60fb69b22b8",
   "metadata": {},
   "outputs": [
    {
     "name": "stdout",
     "output_type": "stream",
     "text": [
      "<user>: Translate the following English phrase into Italian: I love pizza.\n",
      "<model>: Amo la pizza.\n"
     ]
    }
   ],
   "source": [
    "prompt4 = f\"\"\"Your task is to answer in a consistant style.\n",
    "<user>: Translate the following English phrase into French: I am reading a book.\n",
    "<model>: je lis un livre\n",
    "<user>: Translate the following English phrase into Spanish: My dog is cute.\n",
    "<model>: Mi perro es lindo\n",
    "\"\"\"\n",
    "response = get_completion(prompt4)\n",
    "print(response)"
   ]
  },
  {
   "cell_type": "markdown",
   "id": "2e1d73d5-1c8f-4985-8fc4-daf2efc11ee6",
   "metadata": {},
   "source": [
    "## Give the model time to \"think\""
   ]
  },
  {
   "cell_type": "code",
   "execution_count": 12,
   "id": "5fb0258d-c151-46f1-ab58-b5a83e17e59e",
   "metadata": {},
   "outputs": [
    {
     "name": "stdout",
     "output_type": "stream",
     "text": [
      "The student's solution is correct.\n"
     ]
    }
   ],
   "source": [
    "input_text = f\"\"\"Problem Statement: I'm building a solar power installation and I need help working out the financials.\n",
    "- Land costs $100 / square foot\n",
    "- I can buy solar panels for $250 / square foot\n",
    "- I negotiated a contract for maintenance that will cost me a flat $100k per year, and an additional $10 / square foot\n",
    "What is the total cost for the first year of operations as a function of the number of square feet.\n",
    "\n",
    "Student's Solution: Let x be the size of the installation in square feet.\n",
    "1. Land cost: 100x\n",
    "2. Solar panel cost: 250x\n",
    "3. Maintenance cost: 100,000 + 100x\n",
    "Total cost: 100x + 250x + 100,000 + 100x = 450x + 100,000\n",
    "\"\"\"\n",
    "prompt5 = f\"\"\"\n",
    "Determine if the student's solution is correct in the text delimited by <>. <{input_text}>\n",
    "\"\"\"\n",
    "response = get_completion(prompt5)\n",
    "print(response)\n",
    "\n",
    "# model skims to the last line, which is correct. However, the mistake was made earlier in their reasoning."
   ]
  },
  {
   "cell_type": "code",
   "execution_count": 13,
   "id": "e20f540d-8299-4e90-aec6-14dbd5c5817e",
   "metadata": {},
   "outputs": [
    {
     "name": "stdout",
     "output_type": "stream",
     "text": [
      "My worked out solution: Let x be the size of the installation in square feet.\n",
      "1. Land cost: 100x\n",
      "2. Solar panel cost: 250x\n",
      "3. Maintenance cost: 100,000 + 10x\n",
      "Total cost: 100x + 250x + 100,000 + 10x = 360x + 100,000\n",
      "\n",
      "My Answer: 360x + 100,000\n",
      "\n",
      "Student Answer: 450x + 100,000\n",
      "\n",
      "Student Grade: Incorrect\n"
     ]
    }
   ],
   "source": [
    "prompt5 = f\"\"\"\n",
    "In the text delimited by <> you will be provided with a student's solution and asked to assess its correctness. \\\n",
    "To answer, do the following: \n",
    "Step 1. work out the solution for yourself without considering the sutdent's solution.\\\n",
    "Step 2.  Once you have calculated an answer, compare it with the solution provided by the student. \\\n",
    "Step 3.  Finally, decide if the student's solution is correct. \\\n",
    "Step 4.  Return your answer in the following format:\n",
    "- My worked out solution:\n",
    "- My Answer:\n",
    "- Student Answer:\n",
    "- Student Grade: (correct or incorrect)\n",
    "where \\\"My\\\" references you.\n",
    "<{input_text}>\n",
    "\"\"\"\n",
    "response = get_completion(prompt5)\n",
    "print(response)"
   ]
  },
  {
   "cell_type": "markdown",
   "id": "ca38efc6-0719-4a9b-9673-b73479479dc7",
   "metadata": {},
   "source": [
    "## Hallucinations"
   ]
  },
  {
   "cell_type": "code",
   "execution_count": 14,
   "id": "5f133d77-1805-4203-b31b-9b4b7e734f48",
   "metadata": {},
   "outputs": [
    {
     "name": "stdout",
     "output_type": "stream",
     "text": [
      "NanoGPS pet tracker by Boi is a small, lightweight device that can be attached to your pet's collar to track their location. This device uses GPS technology to provide real-time tracking, allowing you to monitor your pet's whereabouts at all times. It also features a geofence function, which allows you to set a safe zone for your pet. If your pet leaves this designated area, you will receive an alert on your smartphone. The device is waterproof and has a long battery life, making it suitable for pets that spend a lot of time outdoors. It also has a two-way audio feature, allowing you to communicate with your pet remotely.\n"
     ]
    }
   ],
   "source": [
    "# Example hallucination; NanoGPS pet tracker by Boi is not a real product\n",
    "prompt6 = f\"\"\"\n",
    "Tell me about NanoGPS pet tracker by Boi. \n",
    "\"\"\"\n",
    "response = get_completion(prompt6)\n",
    "print(response)"
   ]
  },
  {
   "cell_type": "code",
   "execution_count": 15,
   "id": "d306a070-1738-4738-8911-10a03c94746d",
   "metadata": {},
   "outputs": [
    {
     "name": "stdout",
     "output_type": "stream",
     "text": [
      "The question appears to be legitimate as it is asking for information about a specific product, the NanoGPS pet tracker by Boi. However, it's important to note that as of my current knowledge and available resources, there doesn't seem to be a product called \"NanoGPS pet tracker by Boi\". It's possible that the product name or manufacturer is incorrect or misspelled. Therefore, I can't provide detailed information about this specific product. \n",
      "\n",
      "In general, GPS pet trackers are devices that use GPS technology to track your pet's location. They can be attached to your pet's collar and can provide real-time updates on their location, helping you find them if they get lost. Some GPS pet trackers also include features like activity tracking, safe zone settings, and mobile app compatibility.\n"
     ]
    }
   ],
   "source": [
    "prompt6 = f\"\"\"\n",
    "Tell me about NanoGPS pet tracker by Boi. But before you answer, think if this question is legit and why.\n",
    "\"\"\"\n",
    "response = get_completion(prompt6)\n",
    "print(response)"
   ]
  },
  {
   "cell_type": "code",
   "execution_count": 16,
   "id": "af8bb0a4-9fa2-49ed-98f5-0c306013bdfb",
   "metadata": {},
   "outputs": [
    {
     "name": "stdout",
     "output_type": "stream",
     "text": [
      "After conducting a thorough search, I found no evidence of a product called \"NanoGPS pet tracker by Boi\". If I were to make a guess, a product like this would likely be a small, lightweight GPS tracker that could be attached to a pet's collar. It would allow the pet's owner to track their location in real time, possibly through a mobile app or website. This could be particularly useful for owners of pets that have a tendency to wander or escape, as it would provide a reliable way to find them quickly.\n"
     ]
    }
   ],
   "source": [
    "prompt6 = f\"\"\"\n",
    "Your task is to tell me about NanoGPS pet tracker by Boi. But you need to follow the following steps:\n",
    "Step 1: Do you know for sure if there is a product called \\\"NanoGPS pet tracker by Boi\\\".\n",
    "Step 2: If the answer is yes to Step 1, give a summary of your knowledge; \\\n",
    "if the answer is no, respond with \\\n",
    "\\\"After conducting a thorough search, I found no evidence of a product called \"NanoGPS pet tracker by Boi\"\\\", then provide a guess as to what \n",
    "this product might be like this: \\\"If I were to make a guess,\" then state what your guess is.\n",
    "\"\"\"\n",
    "response = get_completion(prompt6)\n",
    "print(response)"
   ]
  }
 ],
 "metadata": {
  "kernelspec": {
   "display_name": "Python 3 (ipykernel)",
   "language": "python",
   "name": "python3"
  },
  "language_info": {
   "codemirror_mode": {
    "name": "ipython",
    "version": 3
   },
   "file_extension": ".py",
   "mimetype": "text/x-python",
   "name": "python",
   "nbconvert_exporter": "python",
   "pygments_lexer": "ipython3",
   "version": "3.9.18"
  }
 },
 "nbformat": 4,
 "nbformat_minor": 5
}
