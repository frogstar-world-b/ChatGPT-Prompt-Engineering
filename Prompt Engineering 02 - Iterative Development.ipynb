{
 "cells": [
  {
   "cell_type": "markdown",
   "id": "a02f6255-2214-450c-9a7a-c12a838b452f",
   "metadata": {},
   "source": [
    "This is a toy example, where we have sime information about a product, and a retailer wants to use this information more succinctly on their their own website. \n",
    "\n",
    "Example: [Airfryer](https://www.amazon.com/dp/B0C73X78W3/ref=sspa_dk_detail_2?psc=1&pd_rd_i=B0C73X78W3&pd_rd_w=MlN9T&content-id=amzn1.sym.0d1092dc-81bb-493f-8769-d5c802257e94&pf_rd_p=0d1092dc-81bb-493f-8769-d5c802257e94&pf_rd_r=GJ8400VY5G1DDJT1FHAY&pd_rd_wg=aoZ0a&pd_rd_r=438bdd4d-0c81-45d9-a1d4-43508842316b&s=kitchen&sp_csd=d2lkZ2V0TmFtZT1zcF9kZXRhaWwy) sold on Amazon "
   ]
  },
  {
   "cell_type": "code",
   "execution_count": 1,
   "id": "7dba55a2-e6c7-4b5f-8393-a6c1cb36c623",
   "metadata": {},
   "outputs": [],
   "source": [
    "import openai\n",
    "import os\n",
    "\n",
    "from dotenv import load_dotenv, find_dotenv\n",
    "_ = load_dotenv(find_dotenv())\n",
    "openai.api_key = os.getenv(\"OPENAI_API_KEY\")"
   ]
  },
  {
   "cell_type": "code",
   "execution_count": 2,
   "id": "5c0c2689-e9af-4bc0-8008-dfcf4d588684",
   "metadata": {},
   "outputs": [],
   "source": [
    "product_fact_sheet = f\"\"\"\n",
    "PRODUCT\n",
    "- A 10 quart family size large airfryer \n",
    "\n",
    "OVERVIEW\n",
    "\n",
    "- Spacious Family-Sized Capacity: The 10 quart air fryer can meet the needs of families or parties. \n",
    "- This airfryer is perfect for preparing meals for the whole family. You can even cook a whole chicken \n",
    "effortlessly, satisfying everyone's appetite in one go. \n",
    "- Versatile Cooking Options: This large air fryer provides a wide range of cooking options to suit various \n",
    "culinary preferences. Whether you want to air fry, bake, grill, or even skewer your favorite foods, this \n",
    "appliance has got you covered. In fact, it comes with a stainless steel double-layer rack and 5 skewers, \n",
    "allowing you to maximize the cooking space and diversify your recipes. \n",
    "- Even and Efficient Cooking Performance: Equipped with powerful heating technology, this air fryer ensures \n",
    "even and efficient cooking results every time. The hot air circulation system guarantees that heat is evenly \n",
    "distributed throughout the cooking chamber, resulting in perfectly cooked dishes with crispy exteriors and tender \n",
    "interiors. Enjoy consistent and satisfying meals with minimal effort. \n",
    "- Convenient and User-Friendly Features: The 10 quart Air Fryer is designed with user convenience in mind. \n",
    "- Its intuitive controls and user-friendly interface make it easy to adjust temperature, cooking time, and \n",
    "cooking modes according to your preferences. Whether you're an experienced home chef or a novice, this air fryer \n",
    "offers a hassle-free cooking experience. \n",
    "- Easy Cleanup and Maintenance: Cleaning up after cooking is a breeze with this air fryer. The high-performance \n",
    "non-stick coating on the cooking basket and accessories prevents food from sticking, making them easy to clean. \n",
    "Additionally, the removable parts, including the stainless steel double-layer rack and skewers, are dishwasher-safe, \n",
    "saving you time and effort. Enjoy the convenience of quick and effortless cleanup after enjoying your delicious meals.\n",
    "\n",
    "PRODUCT SPECS\n",
    "- Brand: Borlebbi\n",
    "- Product Dimensions: 13\"D x 15.7\"W x 14.1\"H\n",
    "- Capacity: 10 Quarts\n",
    "- Material: Aluminum, Plastic，Stainless Steel\n",
    "- Recommended Uses For Product: Air Fryer\n",
    "- Item Weight: 14 Pounds\n",
    "- Wattage: 1700 watts\n",
    "- Voltage: 120 Volts (AC)\n",
    "- Control Method: Touch\n",
    "- Has Nonstick Coating: Yes\n",
    "- Inner Material: Stainless Steel\n",
    "- Outer Material: Stainless Steel\n",
    "- Controller Type: Touch control\n",
    "- Is Dishwasher Safe: Yes\n",
    "- Temperature Control: YES\n",
    "- Max Temperature Setting: 400 Degrees Fahrenheit\n",
    "- Weight: 14 pounds \n",
    "- Product ID: B0C73X78W3\n",
    "\n",
    "COUNTRY OF ORIGIN\n",
    "- Canada\n",
    "\"\"\""
   ]
  },
  {
   "cell_type": "code",
   "execution_count": 3,
   "id": "166d24d7-cdbd-42c0-8092-15d01714cc9d",
   "metadata": {},
   "outputs": [],
   "source": [
    "def get_completion(prompt, model=\"gpt-4\", temp=0):\n",
    "    \"\"\"\n",
    "    Generate a text completion using the OpenAI API.\n",
    "\n",
    "    Parameters:\n",
    "        prompt (str): The user's prompt or input text.\n",
    "        model (str, optional): The model to use (default is \"gpt-4\").\n",
    "        temp (float, optional): The temperature parameter controlling randomness (default is 0).\n",
    "\n",
    "    Returns:\n",
    "        str: The generated text completion.\n",
    "    \"\"\"\n",
    "    messages = [\n",
    "        {\"role\": \"user\", \n",
    "         \"content\": prompt}\n",
    "    ]\n",
    "    response = openai.chat.completions.create(\n",
    "        model=model,\n",
    "        messages=messages,\n",
    "        temperature=temp  \n",
    "    )\n",
    "    return response.choices[0].message.content"
   ]
  },
  {
   "cell_type": "code",
   "execution_count": 4,
   "id": "a11a3677-5b6f-4ad1-89b9-09a1dbecd6fd",
   "metadata": {},
   "outputs": [
    {
     "name": "stdout",
     "output_type": "stream",
     "text": [
      "Introducing the Borlebbi 10 Quart Family Size Large Air Fryer, the perfect kitchen companion for those who love to cook and eat. This spacious air fryer is designed to meet the needs of families or parties, with the capacity to cook a whole chicken effortlessly. It's the perfect solution for satisfying everyone's appetite in one go.\n",
      "\n",
      "This large air fryer is not just about size, it's also about versatility. Whether you want to air fry, bake, grill, or even skewer your favorite foods, this appliance has got you covered. It comes with a stainless steel double-layer rack and 5 skewers, allowing you to maximize the cooking space and diversify your recipes.\n",
      "\n",
      "The Borlebbi Air Fryer is equipped with powerful heating technology, ensuring even and efficient cooking results every time. Its hot air circulation system guarantees that heat is evenly distributed throughout the cooking chamber, resulting in perfectly cooked dishes with crispy exteriors and tender interiors.\n",
      "\n",
      "Designed with user convenience in mind, this air fryer features intuitive controls and a user-friendly interface. It's easy to adjust temperature, cooking time, and cooking modes according to your preferences. Whether you're an experienced home chef or a novice, this air fryer offers a hassle-free cooking experience.\n",
      "\n",
      "Cleaning up after cooking is a breeze with this air fryer. The high-performance non-stick coating on the cooking basket and accessories prevents food from sticking, making them easy to clean. Plus, the removable parts, including the stainless steel double-layer rack and skewers, are dishwasher-safe, saving you time and effort.\n",
      "\n",
      "The Borlebbi Air Fryer is made of durable aluminum, plastic, and stainless steel. It operates at 1700 watts and 120 volts (AC), with a touch control method. It also features a nonstick coating, temperature control, and a maximum temperature setting of 400 degrees Fahrenheit. The product dimensions are 13\"D x 15.7\"W x 14.1\"H and it weighs 14 pounds.\n",
      "\n",
      "Proudly made in Canada, this air fryer is a testament to quality and performance. Enjoy the convenience of quick and effortless cleanup after enjoying your delicious meals with the Borlebbi 10 Quart Family Size Large Air Fryer.\n"
     ]
    }
   ],
   "source": [
    "# FIRST ITERATION\n",
    "prompt = f\"\"\"\n",
    "Your task is to help a marketing team create a description of a retail website of the product\n",
    "based on a technical fact sheet.\n",
    "\n",
    "Write a product description based on the informationprovided in the technical specification \n",
    "delimted by triple backticks.\n",
    "\n",
    "Technical specifications: ```{product_fact_sheet}```\"\"\"\n",
    "\n",
    "response = get_completion(prompt)\n",
    "print(response)"
   ]
  },
  {
   "cell_type": "code",
   "execution_count": 5,
   "id": "350d9d2e-2659-4097-8810-2287966114d1",
   "metadata": {},
   "outputs": [
    {
     "name": "stdout",
     "output_type": "stream",
     "text": [
      "Discover the Borlebbi 10 quart family-sized air fryer, perfect for preparing meals for large gatherings. With versatile cooking options and powerful heating technology, it ensures even and efficient cooking. Its user-friendly touch controls, non-stick coating, and dishwasher-safe parts make it convenient and easy to maintain.\n"
     ]
    }
   ],
   "source": [
    "# SECOND ITERATION: \n",
    "# Make it shorter with a limit on text length (e.g., at most 50 words, or 3 sentences, or 200 characters, etc.)\n",
    "prompt = f\"\"\"\n",
    "Your task is to help a marketing team create a description of a retail website of the product\n",
    "based on a technical fact sheet.\n",
    "\n",
    "Write a product description based on the informationprovided in the technical specification \n",
    "delimted by triple backticks.\n",
    "\n",
    "Use at most 50 words.\n",
    "\n",
    "Technical specifications: ```{product_fact_sheet}```\"\"\"\n",
    "\n",
    "response = get_completion(prompt)\n",
    "print(response)"
   ]
  },
  {
   "cell_type": "code",
   "execution_count": 6,
   "id": "62dc9ba8-f83f-45cb-a1c6-c69bb641a76a",
   "metadata": {},
   "outputs": [
    {
     "data": {
      "text/plain": [
       "45"
      ]
     },
     "execution_count": 6,
     "metadata": {},
     "output_type": "execute_result"
    }
   ],
   "source": [
    "len(response.split(\" \"))"
   ]
  },
  {
   "cell_type": "code",
   "execution_count": 7,
   "id": "7a3c87e4-fa97-4168-bb23-facd2094938b",
   "metadata": {},
   "outputs": [
    {
     "name": "stdout",
     "output_type": "stream",
     "text": [
      "The Borlebbi 10 quart air fryer is a versatile, family-sized kitchen appliance. It features a stainless steel interior, touch controls, and a maximum temperature setting of 400 degrees Fahrenheit. With a powerful 1700 watt heating system, it ensures even cooking. It's also dishwasher safe for easy cleanup.\n"
     ]
    }
   ],
   "source": [
    "# THIRD ITERATION\n",
    "# This product will be sold to retailers, so technical details are important\n",
    "prompt = f\"\"\"\n",
    "Your task is to help a marketing team create a description of a retail website of the product\n",
    "based on a technical fact sheet.\n",
    "\n",
    "Write a product description based on the informationprovided in the technical specification \n",
    "delimted by triple backticks.\n",
    "\n",
    "The description is intended for an kitchen appliances retailers, so should be technical in nature\n",
    "and focus on the technical specs of the product such as electrical, materials, etc.\n",
    "\n",
    "Use at most 50 words.\n",
    "\n",
    "Technical specifications: ```{product_fact_sheet}```\"\"\"\n",
    "\n",
    "response = get_completion(prompt)\n",
    "print(response)"
   ]
  },
  {
   "cell_type": "code",
   "execution_count": 8,
   "id": "aec58b73-7813-4fb6-9874-aa938b3b8953",
   "metadata": {},
   "outputs": [
    {
     "name": "stdout",
     "output_type": "stream",
     "text": [
      "```html\n",
      "<div>\n",
      "<h1>Borlebbi 10 Quart Family Size Large Airfryer</h1>\n",
      "<p>A versatile and spacious 10 quart air fryer, perfect for family meals. Equipped with powerful heating technology for even cooking, and user-friendly touch controls. Made from durable aluminum, plastic, and stainless steel, with a non-stick coating for easy cleanup.</p>\n",
      "<p>Product ID: B0C73X78W3</p>\n",
      "</div>\n",
      "\n",
      "<table>\n",
      "  <caption>Product Specs</caption>\n",
      "  <tr>\n",
      "    <th>Dimensions</th>\n",
      "    <td>13\"D x 15.7\"W x 14.1\"H</td>\n",
      "  </tr>\n",
      "  <tr>\n",
      "    <th>Capacity</th>\n",
      "    <td>10 Quarts</td>\n",
      "  </tr>\n",
      "  <tr>\n",
      "    <th>Materials</th>\n",
      "    <td>Aluminum, Plastic, Stainless Steel</td>\n",
      "  </tr>\n",
      "  <tr>\n",
      "    <th>Wattage</th>\n",
      "    <td>1700 watts</td>\n",
      "  </tr>\n",
      "  <tr>\n",
      "    <th>Voltage</th>\n",
      "    <td>120 Volts (AC)</td>\n",
      "  </tr>\n",
      "  <tr>\n",
      "    <th>Temperature Range</th>\n",
      "    <td>Up to 400 Degrees Fahrenheit</td>\n",
      "  </tr>\n",
      "</table>\n",
      "```\n"
     ]
    }
   ],
   "source": [
    "# FOURTH ITERATION\n",
    "# Create HTML for a website with the desired product specs\n",
    "prompt = f\"\"\"\n",
    "Your task is to help a marketing team create a description of a retail website of the product\n",
    "based on a technical fact sheet.\n",
    "\n",
    "Begin by writing the product name.\n",
    "\n",
    "Then, write a product description based on the informationprovided in the technical specification \n",
    "delimted by triple backticks.\n",
    "\n",
    "The description is intended for an kitchen appliances retailers, so should be technical in nature\n",
    "and focus on the technical specs of the product such as electrical, materials, etc.\n",
    "\n",
    "Use at most 50 words for the product description.\n",
    "\n",
    "Then in a new line include the Product ID.\n",
    "\n",
    "After that, include a table that gives the product's dimentions, capacity, materials, wattage, \n",
    "voltage, and temperature range. Give the table the name 'Product Specs'. \n",
    "\n",
    "Format everything as HTML that can be used in a website. Place the description in a <div> element. \n",
    "\n",
    "Technical specifications: ```{product_fact_sheet}```\"\"\"\n",
    "\n",
    "response = get_completion(prompt)\n",
    "print(response)"
   ]
  },
  {
   "cell_type": "code",
   "execution_count": 9,
   "id": "abff604a-2ea1-4eca-8008-e28b2e8a9006",
   "metadata": {},
   "outputs": [
    {
     "data": {
      "text/html": [
       "```html\n",
       "<div>\n",
       "<h1>Borlebbi 10 Quart Family Size Large Airfryer</h1>\n",
       "<p>A versatile and spacious 10 quart air fryer, perfect for family meals. Equipped with powerful heating technology for even cooking, and user-friendly touch controls. Made from durable aluminum, plastic, and stainless steel, with a non-stick coating for easy cleanup.</p>\n",
       "<p>Product ID: B0C73X78W3</p>\n",
       "</div>\n",
       "\n",
       "<table>\n",
       "  <caption>Product Specs</caption>\n",
       "  <tr>\n",
       "    <th>Dimensions</th>\n",
       "    <td>13\"D x 15.7\"W x 14.1\"H</td>\n",
       "  </tr>\n",
       "  <tr>\n",
       "    <th>Capacity</th>\n",
       "    <td>10 Quarts</td>\n",
       "  </tr>\n",
       "  <tr>\n",
       "    <th>Materials</th>\n",
       "    <td>Aluminum, Plastic, Stainless Steel</td>\n",
       "  </tr>\n",
       "  <tr>\n",
       "    <th>Wattage</th>\n",
       "    <td>1700 watts</td>\n",
       "  </tr>\n",
       "  <tr>\n",
       "    <th>Voltage</th>\n",
       "    <td>120 Volts (AC)</td>\n",
       "  </tr>\n",
       "  <tr>\n",
       "    <th>Temperature Range</th>\n",
       "    <td>Up to 400 Degrees Fahrenheit</td>\n",
       "  </tr>\n",
       "</table>\n",
       "```"
      ],
      "text/plain": [
       "<IPython.core.display.HTML object>"
      ]
     },
     "metadata": {},
     "output_type": "display_data"
    }
   ],
   "source": [
    "from IPython.display import display, HTML\n",
    "display(HTML(response))"
   ]
  }
 ],
 "metadata": {
  "kernelspec": {
   "display_name": "Python 3 (ipykernel)",
   "language": "python",
   "name": "python3"
  },
  "language_info": {
   "codemirror_mode": {
    "name": "ipython",
    "version": 3
   },
   "file_extension": ".py",
   "mimetype": "text/x-python",
   "name": "python",
   "nbconvert_exporter": "python",
   "pygments_lexer": "ipython3",
   "version": "3.9.18"
  }
 },
 "nbformat": 4,
 "nbformat_minor": 5
}
