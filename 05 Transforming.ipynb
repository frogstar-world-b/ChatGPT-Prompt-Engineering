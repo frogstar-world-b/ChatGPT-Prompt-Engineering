{
 "cells": [
  {
   "cell_type": "markdown",
   "id": "5a7a9c03-d8a2-4ee2-849e-5f019c509ffa",
   "metadata": {},
   "source": [
    "LLMs are good at transforming input text to a different format, such as taking as input a piece of text \n",
    "- then translating it into another language\n",
    "- then proof reading and making gramatical corrections\n",
    "- then changing the tone of the text\n",
    "- as HTML and outputing a JSON\n",
    "- as python code and outputing the corresponding SQL query"
   ]
  },
  {
   "cell_type": "code",
   "execution_count": 1,
   "id": "89049803-2edc-48e4-8276-a07490f263d5",
   "metadata": {},
   "outputs": [],
   "source": [
    "import openai\n",
    "import os\n",
    "\n",
    "from dotenv import load_dotenv, find_dotenv\n",
    "_ = load_dotenv(find_dotenv())\n",
    "openai.api_key = os.getenv(\"OPENAI_API_KEY\")"
   ]
  },
  {
   "cell_type": "code",
   "execution_count": 2,
   "id": "02237259-0253-42fe-9960-6bfe8b3600f2",
   "metadata": {},
   "outputs": [],
   "source": [
    "def get_completion(prompt, model=\"gpt-4\", temp=0):\n",
    "    \"\"\"\n",
    "    Generate a text completion using the OpenAI API.\n",
    "\n",
    "    Parameters:\n",
    "        prompt (str): The user's prompt or input text.\n",
    "        model (str, optional): The model to use (default is \"gpt-4\").\n",
    "        temp (float, optional): The temperature parameter controlling randomness (default is 0).\n",
    "\n",
    "    Returns:\n",
    "        str: The generated text completion.\n",
    "    \"\"\"\n",
    "    messages = [\n",
    "        {\"role\": \"user\", \n",
    "         \"content\": prompt}\n",
    "    ]\n",
    "    response = openai.chat.completions.create(\n",
    "        model=model,\n",
    "        messages=messages,\n",
    "        temperature=temp  \n",
    "    )\n",
    "    return response.choices[0].message.content"
   ]
  },
  {
   "cell_type": "code",
   "execution_count": 3,
   "id": "293314e3-de9f-4181-9d1b-ce8a162d8a9e",
   "metadata": {},
   "outputs": [
    {
     "name": "stdout",
     "output_type": "stream",
     "text": [
      "Hola, me gustaría pedir un sándwich.\n"
     ]
    }
   ],
   "source": [
    "# Translate to Spanish\n",
    "prompt1 = f\"\"\"\n",
    "Translate the following English text to Spanish:\n",
    "```Hi, I would like to order a sandwitch```\n",
    "\"\"\"\n",
    "\n",
    "response = get_completion(prompt1)\n",
    "print(response)"
   ]
  },
  {
   "cell_type": "code",
   "execution_count": 4,
   "id": "03914a07-81bc-4c2c-bd18-098755bc1b3f",
   "metadata": {},
   "outputs": [
    {
     "name": "stdout",
     "output_type": "stream",
     "text": [
      "مرحبا، أود طلب ساندويتش\n"
     ]
    }
   ],
   "source": [
    "# Translate to Arabic\n",
    "prompt2 = f\"\"\"\n",
    "Translate the following English text to Arabic:\n",
    "```Hi, I would like to order a sandwitch```\n",
    "\"\"\"\n",
    "\n",
    "response = get_completion(prompt2)\n",
    "print(response)"
   ]
  },
  {
   "cell_type": "code",
   "execution_count": 5,
   "id": "f0dfeca5-955c-4573-8e9c-1c913058dc89",
   "metadata": {},
   "outputs": [
    {
     "name": "stdout",
     "output_type": "stream",
     "text": [
      "This is Russian.\n"
     ]
    }
   ],
   "source": [
    "# Identify the language of the input text\n",
    "prompt3 = f\"\"\"\n",
    "Tell me which language this is:\n",
    "```Привет, я хотел бы заказать сэндвич```\n",
    "\"\"\"\n",
    "\n",
    "response = get_completion(prompt3)\n",
    "print(response)"
   ]
  },
  {
   "cell_type": "code",
   "execution_count": 6,
   "id": "0a5d42a4-8272-4ff6-9169-99e573bfcbcd",
   "metadata": {},
   "outputs": [
    {
     "name": "stdout",
     "output_type": "stream",
     "text": [
      "Spanish: Hola, me gustaría pedir una cerveza.\n",
      "French: Salut, je voudrais commander une bière.\n",
      "English Pirate: Ahoy, I be wantin' to order a pint o' grog.\n"
     ]
    }
   ],
   "source": [
    "# Translate to multiple languages\n",
    "prompt4 = f\"\"\"\n",
    "Translate the following English text to Spanish, Frensh, and English Pirate:\n",
    "```Hi, I would like to order a beer.```\n",
    "\"\"\"\n",
    "\n",
    "response = get_completion(prompt4)\n",
    "print(response)"
   ]
  },
  {
   "cell_type": "code",
   "execution_count": 7,
   "id": "c72a43fc-edb6-4f00-a71a-c4212465ba37",
   "metadata": {},
   "outputs": [
    {
     "name": "stdout",
     "output_type": "stream",
     "text": [
      "Formal: Hola, me gustaría pedir una cerveza.\n",
      "Informal: Hola, quisiera pedir una cerveza.\n"
     ]
    }
   ],
   "source": [
    "# Translate to different tones of spanish\n",
    "prompt5 = f\"\"\"\n",
    "Translate the following English text to Spanish in both the formal and informal forms:\n",
    "```Hi, I would like to order a beer.```\n",
    "\"\"\"\n",
    "\n",
    "response = get_completion(prompt5)\n",
    "print(response)"
   ]
  },
  {
   "cell_type": "code",
   "execution_count": 8,
   "id": "89eea51d-7c8c-46d3-b0ea-3b9bef8f245d",
   "metadata": {},
   "outputs": [
    {
     "name": "stdout",
     "output_type": "stream",
     "text": [
      "Formal: مرحبا، أود طلب بيرة.\n",
      "Informal: هاي، بدي أطلب بيرة.\n"
     ]
    }
   ],
   "source": [
    "# Translate to different tones of Arabic\n",
    "# We get formal (الفصحى) and informal (Levantine dialect) \n",
    "prompt6 = f\"\"\"\n",
    "Translate the following English text to Arabic in both the formal and informal forms:\n",
    "```Hi, I would like to order a beer.```\n",
    "\"\"\"\n",
    "\n",
    "response = get_completion(prompt6)\n",
    "print(response)"
   ]
  },
  {
   "cell_type": "code",
   "execution_count": 9,
   "id": "aff74889-00d3-4a74-894f-e0d4e2463e3c",
   "metadata": {},
   "outputs": [
    {
     "name": "stdout",
     "output_type": "stream",
     "text": [
      "{\n",
      "\"Original Message\": \"أرغب في شراء ديوان شعر\",\n",
      "\"Language\": \"Arabic\",\n",
      "\"English\": \"I want to buy a poetry book\",\n",
      "\"Korean\": \"나는 시집을 사고 싶다\"\n",
      "}\n",
      "The language of the given text is Hindi. The English translation is \"What is this time?\" and the Korean translation is \"이 시간이 무엇입니까?\"\n",
      "\n",
      "Here is the JSON:\n",
      "\n",
      "{\n",
      "  \"Original Message\": \"ये वक़्त क्या है?\",\n",
      "  \"Language\": \"Hindi\",\n",
      "  \"English\": \"What is this time?\",\n",
      "  \"Korean\": \"이 시간이 무엇입니까?\"\n",
      "}\n",
      "{\n",
      "    \"Original Message\": \"Où puis-je acheter du pain ?\",\n",
      "    \"Language\": \"French\",\n",
      "    \"English\": \"Where can I buy bread?\",\n",
      "    \"Korean\": \"나는 어디에서 빵을 살 수 있나요?\"\n",
      "}\n",
      "The given text is in two languages: Portuguese and Chinese. Here is the translation:\n",
      "\n",
      "Portuguese: \"O banco está fechado porque hoje é feriado.\" \n",
      "English: \"The bank is closed because today is a holiday.\"\n",
      "\n",
      "Chinese: \"我喜歡和朋友一起度過時光\"\n",
      "English: \"I like spending time with friends.\"\n",
      "Korean: \"나는 친구들과 시간을 보내는 것을 좋아한다.\"\n",
      "\n",
      "So, the JSON would be:\n",
      "\n",
      "{\n",
      "  \"Original Message\": \"O banco está fechado porque hoje é feriado.我喜歡和朋友一起度過時光\",\n",
      "  \"Language\": \"Portuguese and Chinese\",\n",
      "  \"English\": \"The bank is closed because today is a holiday. I like spending time with friends.\",\n",
      "  \"Korean\": \"은행이 닫혔습니다 왜냐하면 오늘은 휴일입니다. 나는 친구들과 시간을 보내는 것을 좋아한다.\"\n",
      "}\n"
     ]
    }
   ],
   "source": [
    "# Universal translator\n",
    "# Notice I forgot to put a comma between the last two messages and how it was handled by the LLM\n",
    "user_messages = [\n",
    "    \"أرغب في شراء ديوان شعر\",\n",
    "    \"ये वक़्त क्या है?\",\n",
    "    \"Où puis-je acheter du pain ?\",\n",
    "    \"O banco está fechado porque hoje é feriado.\"\n",
    "    \"我喜歡和朋友一起度過時光\"\n",
    "]\n",
    "\n",
    "for message in user_messages:\n",
    "    prompt7 = f\"\"\"Tell me what language this is:\n",
    "    ```{message}```\n",
    "    Then, if it is not in English, translate it to English.\n",
    "    And if it is not in Korean, translate it to Korean.\n",
    "    Return your answer as a JSON with the following keys.\n",
    "    \"Original Message\", \"Language\", \"English\", \"Korean\"\n",
    "    \"\"\"\n",
    "    response = get_completion(prompt7)\n",
    "    print(response)"
   ]
  },
  {
   "cell_type": "code",
   "execution_count": 10,
   "id": "0283e580-1c9d-4aea-9a1c-ea057842d545",
   "metadata": {},
   "outputs": [
    {
     "name": "stdout",
     "output_type": "stream",
     "text": [
      "Subject: Concerns Regarding the Performance of Your Air Fryer\n",
      "\n",
      "Dear Manufacturer,\n",
      "\n",
      "I hope this message finds you well. I am writing to express my dissatisfaction with one of your products, specifically the air fryer that I recently purchased.\n",
      "\n",
      "Unfortunately, I have encountered several issues with the product. Firstly, it seems to overheat the food to the point of burning, which is not only disappointing but also a potential safety hazard. Secondly, the device has been causing an excessive amount of smoke in my kitchen, which is not only inconvenient but also concerning from a health and safety perspective.\n",
      "\n",
      "I had high expectations for your product, but my experience thus far has been less than satisfactory. I am hopeful that you will take my concerns seriously and provide a suitable solution.\n",
      "\n",
      "Thank you for your attention to this matter. I look forward to hearing from you soon.\n",
      "\n",
      "Best regards,\n",
      "\n",
      "[Your Name]\n"
     ]
    }
   ],
   "source": [
    "# Get different tones from the LLM\n",
    "prompt8 = f\"\"\"\n",
    "Translate the following text from slan to business letter to send to a manufacturer of a product:\n",
    "```Damn! This air fryer sucks. Burned the food and got my kichen all smokey and sh!t. Don't like it.\"\n",
    "\"\"\"\n",
    "\n",
    "response = get_completion(prompt8)\n",
    "print(response)"
   ]
  },
  {
   "cell_type": "code",
   "execution_count": 11,
   "id": "ee39bb20-b620-4a28-8d55-9b00d034dbdb",
   "metadata": {},
   "outputs": [
    {
     "name": "stdout",
     "output_type": "stream",
     "text": [
      "<table>\n",
      "    <thead>\n",
      "        <tr>\n",
      "            <th>id</th>\n",
      "            <th>name</th>\n",
      "        </tr>\n",
      "    </thead>\n",
      "    <tbody>\n",
      "        <tr>\n",
      "            <td>101</td>\n",
      "            <td>John Doe</td>\n",
      "        </tr>\n",
      "        <tr>\n",
      "            <td>102</td>\n",
      "            <td>Jane Smith</td>\n",
      "        </tr>\n",
      "        <tr>\n",
      "            <td>103</td>\n",
      "            <td>Michael Johnson</td>\n",
      "        </tr>\n",
      "        <tr>\n",
      "            <td>104</td>\n",
      "            <td>Emily Davis</td>\n",
      "        </tr>\n",
      "        <tr>\n",
      "            <td>105</td>\n",
      "            <td>Robert Brown</td>\n",
      "        </tr>\n",
      "    </tbody>\n",
      "</table>\n"
     ]
    }
   ],
   "source": [
    "# transform the input format from JSON to HTML\n",
    "data_json = {\"employees\": [\n",
    "    {\"id\": 101, \"name\": \"John Doe\"},\n",
    "    {\"id\": 102, \"name\": \"Jane Smith\"},\n",
    "    {\"id\": 103, \"name\": \"Michael Johnson\"},\n",
    "    {\"id\": 104, \"name\": \"Emily Davis\"},\n",
    "    {\"id\": 105, \"name\": \"Robert Brown\"}\n",
    "]}\n",
    "\n",
    "prompt9 = f\"\"\"\n",
    "Translate the following python dictionary from JSON to an HTML table \n",
    "with column headers and titles: {data_json}. \n",
    "Don't provide any additional text.\n",
    "\"\"\"\n",
    "response = get_completion(prompt9)\n",
    "print(response)"
   ]
  },
  {
   "cell_type": "code",
   "execution_count": 12,
   "id": "dc56f8e1-f133-4467-979d-cf3165a565fe",
   "metadata": {},
   "outputs": [
    {
     "data": {
      "text/html": [
       "<table>\n",
       "    <thead>\n",
       "        <tr>\n",
       "            <th>id</th>\n",
       "            <th>name</th>\n",
       "        </tr>\n",
       "    </thead>\n",
       "    <tbody>\n",
       "        <tr>\n",
       "            <td>101</td>\n",
       "            <td>John Doe</td>\n",
       "        </tr>\n",
       "        <tr>\n",
       "            <td>102</td>\n",
       "            <td>Jane Smith</td>\n",
       "        </tr>\n",
       "        <tr>\n",
       "            <td>103</td>\n",
       "            <td>Michael Johnson</td>\n",
       "        </tr>\n",
       "        <tr>\n",
       "            <td>104</td>\n",
       "            <td>Emily Davis</td>\n",
       "        </tr>\n",
       "        <tr>\n",
       "            <td>105</td>\n",
       "            <td>Robert Brown</td>\n",
       "        </tr>\n",
       "    </tbody>\n",
       "</table>"
      ],
      "text/plain": [
       "<IPython.core.display.HTML object>"
      ]
     },
     "metadata": {},
     "output_type": "display_data"
    }
   ],
   "source": [
    "from IPython.display import display, HTML\n",
    "display(HTML(response))"
   ]
  },
  {
   "cell_type": "code",
   "execution_count": 13,
   "id": "74b8b388-9dc8-484b-8e7c-55cee223137c",
   "metadata": {},
   "outputs": [
    {
     "name": "stdout",
     "output_type": "stream",
     "text": [
      "She doesn't like to eat broccoli.\n",
      "The text \"The dogs are barking loudly in the park.\" is correct as it is.\n",
      "He and I are going to the movies.\n",
      "They're going to their house for lunch.\n",
      "I saw the movie last night.\n"
     ]
    }
   ],
   "source": [
    "# Proofread and correct sentences - First iteration\n",
    "sentences_with_errors = [\n",
    "    \"She don't likes to eat broccoli.\",\n",
    "    \"The dogs are barking loudly in the park.\",\n",
    "    \"Him and me are going to the movies.\",\n",
    "    \"Their going to there house for lunch.\",\n",
    "    \"I seen the movie last night.\"\n",
    "]\n",
    "\n",
    "for s in sentences_with_errors:\n",
    "    prompt10_a = f\"\"\"proofread and correct the following text: ```{s}```. \n",
    "    Provide the corrected version if you made corrections. \n",
    "    If not, provide the original text.\"\"\"\n",
    "    response = get_completion(prompt10_a)\n",
    "    print(response)"
   ]
  },
  {
   "cell_type": "code",
   "execution_count": 14,
   "id": "d1db4835-d28f-495c-9b10-ad40de332652",
   "metadata": {},
   "outputs": [
    {
     "name": "stdout",
     "output_type": "stream",
     "text": [
      "She doesn't like to eat broccoli.\n",
      "The dogs are barking loudly in the park.\n",
      "He and I are going to the movies.\n",
      "They're going to their house for lunch.\n",
      "I saw the movie last night.\n"
     ]
    }
   ],
   "source": [
    "# Proofread and correct sentences - Second iteration\n",
    "sentences_with_errors = [\n",
    "    \"She don't likes to eat broccoli.\",\n",
    "    \"The dogs are barking loudly in the park.\",\n",
    "    \"Him and me are going to the movies.\",\n",
    "    \"Their going to there house for lunch.\",\n",
    "    \"I seen the movie last night.\"\n",
    "]\n",
    "\n",
    "for s in sentences_with_errors:\n",
    "    prompt10_b = f\"\"\"proofread and correct the following text: ```{s}```. \n",
    "    Provide only the corrected version if you made corrections and no more. \n",
    "    If not, provide the original text and no more.\"\"\"\n",
    "    response = get_completion(prompt10_b)\n",
    "    print(response)"
   ]
  },
  {
   "cell_type": "code",
   "execution_count": 15,
   "id": "0775eec9-fec0-4a0a-818f-ce3e3d64fc91",
   "metadata": {},
   "outputs": [
    {
     "name": "stdout",
     "output_type": "stream",
     "text": [
      "At its best, it's a glorified French fry maker. Not much can fit; even fries need to be in two layers and constantly moved, as the hot air does not disperse evenly. So, it's not worth the price.\n"
     ]
    }
   ],
   "source": [
    "# Proofread and correct a review: first iteration\n",
    "review = f\"\"\"\n",
    "At its best, Its a glorified french fry maker. Not much can fit, even fries need to be two layers \n",
    "and constantly moved, as the hot air does not disperse evenly. So, noth worth the price.\n",
    "\"\"\"\n",
    "\n",
    "prompt11_a = f\"\"\"\n",
    "proofread and correct this review: ```{review}```.\n",
    "\"\"\"\n",
    "\n",
    "response = get_completion(prompt11_a)\n",
    "print(response)"
   ]
  },
  {
   "cell_type": "code",
   "execution_count": 16,
   "id": "b8eb2c45-ae97-4d57-9b2e-d4a6a5f64a27",
   "metadata": {},
   "outputs": [
    {
     "data": {
      "text/markdown": [
       "At its best, <span style='color:red;font-weight:700;text-decoration:line-through;'>Its </span><span style='color:green;font-weight:700;'>it's </span>a glorified <span style='color:red;font-weight:700;text-decoration:line-through;'>french </span><span style='color:green;font-weight:700;'>French </span>fry maker. Not much can <span style='color:red;font-weight:700;text-decoration:line-through;'>fit, </span><span style='color:green;font-weight:700;'>fit; </span>even fries need to be <span style='color:green;font-weight:700;'>in </span>two layers <span style='color:red;font-weight:700;text-decoration:line-through;'>¶ </span>and constantly moved, as the hot air does not disperse evenly. So, <span style='color:red;font-weight:700;text-decoration:line-through;'>noth </span><span style='color:green;font-weight:700;'>it's not </span>worth the price."
      ],
      "text/plain": [
       "<IPython.core.display.Markdown object>"
      ]
     },
     "metadata": {},
     "output_type": "display_data"
    }
   ],
   "source": [
    "from redlines import Redlines\n",
    "from IPython.display import Markdown\n",
    "\n",
    "diff = Redlines(review, response)\n",
    "display(Markdown(diff.output_markdown))"
   ]
  },
  {
   "cell_type": "code",
   "execution_count": 17,
   "id": "fb86071f-35f3-4fca-8803-251ff25d493e",
   "metadata": {},
   "outputs": [
    {
     "data": {
      "text/markdown": [
       "Review: \n",
       "\n",
       "```\n",
       "The device, at its finest, can be likened to an elevated French fry maker. However, its capacity is rather limited, necessitating that even fries be arranged in two layers and frequently shifted. This is due to the uneven dispersion of hot air within the appliance. Consequently, its value proposition may not align with its price point.\n",
       "```"
      ],
      "text/plain": [
       "<IPython.core.display.Markdown object>"
      ]
     },
     "metadata": {},
     "output_type": "display_data"
    }
   ],
   "source": [
    "# Proofread and correct a review: second iteration (formalize the text and output a markdown) \n",
    "\n",
    "prompt11_b = f\"\"\"\n",
    "Proofread and correct the review delimited with triple backticks.\n",
    "Make it more complelling.\n",
    "Ensure it follows APA style guide and targets an advaned reader.\n",
    "Output the updated review in markdown format.\n",
    "\n",
    "Review: ```{review}```.\n",
    "\"\"\"\n",
    "\n",
    "response = get_completion(prompt11_b)\n",
    "display(Markdown(response))"
   ]
  },
  {
   "cell_type": "code",
   "execution_count": 18,
   "id": "dcf20814-793d-49f6-9051-854d47494fca",
   "metadata": {},
   "outputs": [
    {
     "data": {
      "text/markdown": [
       "```sql\n",
       "SELECT product_category, AVG(sales_amount) as sales_amount\n",
       "FROM table_name\n",
       "GROUP BY product_category;\n",
       "```"
      ],
      "text/plain": [
       "<IPython.core.display.Markdown object>"
      ]
     },
     "metadata": {},
     "output_type": "display_data"
    }
   ],
   "source": [
    "# input python code, output SQL\n",
    "python_code = f\"\"\"\n",
    "import pandas as pd\n",
    "\n",
    "# Create a sample DataFrame (replace this with your actual data)\n",
    "data = {{\n",
    "    'product_category': ['Category A', 'Category B', 'Category A', 'Category B'],\n",
    "    'sales_amount': [100, 150, 200, 120]\n",
    "}}\n",
    "\n",
    "df = pd.DataFrame(data)\n",
    "\n",
    "# Group by 'product_category' and calculate the average 'sales_amount'\n",
    "result = df.groupby('product_category')['sales_amount'].mean().reset_index()\n",
    "\"\"\"\n",
    "\n",
    "prompt12 = f\"\"\"\n",
    "Read the python code in the text below, then give me the equivalent SQL code.\n",
    "Only provide the SQL code and no additional text. Format your answer as markdown.\n",
    "Python code: ```{python_code}```\n",
    "\"\"\"\n",
    "\n",
    "response = get_completion(prompt12)\n",
    "display(Markdown(response))"
   ]
  },
  {
   "cell_type": "code",
   "execution_count": 19,
   "id": "9aa73cfc-5f7d-4b09-a91a-bd32933b38f1",
   "metadata": {},
   "outputs": [
    {
     "data": {
      "text/plain": [
       "'```sql\\nSELECT product_category, AVG(sales_amount) as sales_amount\\nFROM table_name\\nGROUP BY product_category;\\n```'"
      ]
     },
     "execution_count": 19,
     "metadata": {},
     "output_type": "execute_result"
    }
   ],
   "source": [
    "response"
   ]
  }
 ],
 "metadata": {
  "kernelspec": {
   "display_name": "Python 3 (ipykernel)",
   "language": "python",
   "name": "python3"
  },
  "language_info": {
   "codemirror_mode": {
    "name": "ipython",
    "version": 3
   },
   "file_extension": ".py",
   "mimetype": "text/x-python",
   "name": "python",
   "nbconvert_exporter": "python",
   "pygments_lexer": "ipython3",
   "version": "3.9.18"
  }
 },
 "nbformat": 4,
 "nbformat_minor": 5
}
