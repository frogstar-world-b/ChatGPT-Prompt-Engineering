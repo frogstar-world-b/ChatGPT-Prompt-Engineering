{
 "cells": [
  {
   "cell_type": "markdown",
   "id": "5a7a9c03-d8a2-4ee2-849e-5f019c509ffa",
   "metadata": {},
   "source": [
    "## Expanding\n",
    "Expanding is the task of taking a shorter piece of text (such as a set of instructions or a list of topics) and having the LLM generate a long piece of text, like an email or assay.\n",
    "\n",
    "But please don't use LLMs to generate and distribute spam!\n",
    "\n",
    "## The Temperature Parameter \n",
    "It is a parameter between 0 and 1, and it references the degree of randomness of the model. The model chooses its next word according to a distribution over all words. Lower temperature keeps this distribution unchanged, but higher temperature would start favoring words with a lower probability. Thus, the model diverges from the original distribution as the temperature parameter increases. \n",
    "\n",
    "Set `temperature=0` if you want a more robust and predictable output. At higher temperatures, the assistant is more creative / distractable! Feel free to try a variety of temperature values."
   ]
  },
  {
   "cell_type": "code",
   "execution_count": 1,
   "id": "89049803-2edc-48e4-8276-a07490f263d5",
   "metadata": {},
   "outputs": [],
   "source": [
    "import openai\n",
    "import os\n",
    "\n",
    "from dotenv import load_dotenv, find_dotenv\n",
    "_ = load_dotenv(find_dotenv())\n",
    "openai.api_key = os.getenv(\"OPENAI_API_KEY\")"
   ]
  },
  {
   "cell_type": "code",
   "execution_count": 2,
   "id": "02237259-0253-42fe-9960-6bfe8b3600f2",
   "metadata": {},
   "outputs": [],
   "source": [
    "def get_completion(prompt, model=\"gpt-4\", temp=0):\n",
    "    \"\"\"\n",
    "    Generate a text completion using the OpenAI API.\n",
    "\n",
    "    Parameters:\n",
    "        prompt (str): The user's prompt or input text.\n",
    "        model (str, optional): The model to use (default is \"gpt-4\").\n",
    "        temp (float, optional): The temperature parameter controlling randomness (default is 0).\n",
    "\n",
    "    Returns:\n",
    "        str: The generated text completion.\n",
    "    \"\"\"\n",
    "    messages = [\n",
    "        {\"role\": \"user\", \n",
    "         \"content\": prompt}\n",
    "    ]\n",
    "    response = openai.chat.completions.create(\n",
    "        model=model,\n",
    "        messages=messages,\n",
    "        temperature=temp  \n",
    "    )\n",
    "    return response.choices[0].message.content"
   ]
  },
  {
   "cell_type": "markdown",
   "id": "702e79ca-b08f-4478-bc3b-33f71bba64e5",
   "metadata": {},
   "source": [
    "## Expanding"
   ]
  },
  {
   "cell_type": "code",
   "execution_count": 3,
   "id": "4f6f47b9-31b6-45fc-8a4b-2076a37dcf73",
   "metadata": {},
   "outputs": [
    {
     "name": "stdout",
     "output_type": "stream",
     "text": [
      "negative\n"
     ]
    }
   ],
   "source": [
    "# Use an example review from the inferring notebook\n",
    "review = f\"\"\"\n",
    "The positive thing is the size. But it lacks the power/heat :-(. Needs to be 500w/1800+ . \n",
    "I noticed that fries and other items take longer in this fryer/not as crispy. It also lacks \n",
    "features that other fryers have .\n",
    "- No mid time flip notification\n",
    "- when time is finished it just shuts down / my other air fryer had a cooling time when timer \n",
    "finished. Meaning the internal fan would keep running until the unit cooled down/this one does \n",
    "Not have that.\n",
    "I would probably prefer my old Big Box air fryers and give up the size of this one.\n",
    "\"\"\"\n",
    "\n",
    "# Infer sentiment, and specify its format: one word (positive or negative)\n",
    "prompt1 = f\"\"\"\n",
    "What is the sentiment of the following product review, which is delimted with triple backticks?\n",
    "\n",
    "Give one word response \"positive\" or \"negative\".\n",
    "\n",
    "Review text: ```{review}```\n",
    "\"\"\"\n",
    "\n",
    "response = get_completion(prompt1)\n",
    "print(response)"
   ]
  },
  {
   "cell_type": "code",
   "execution_count": 4,
   "id": "1ed22948-3059-420f-8fbc-9fe658373a04",
   "metadata": {},
   "outputs": [
    {
     "name": "stdout",
     "output_type": "stream",
     "text": [
      "Subject: Your Recent Product Review - We Value Your Feedback\n",
      "\n",
      "Dear Valued Customer,\n",
      "\n",
      "Thank you for taking the time to share your feedback regarding our air fryer. We are sorry to hear that your experience did not meet your expectations.\n",
      "\n",
      "We understand your concerns about the power and heat of the product, as well as the lack of certain features such as the mid-time flip notification and the cooling time when the timer finishes. We appreciate your comparison with your previous Big Box air fryers and your preference for them due to these features.\n",
      "\n",
      "We are committed to providing our customers with high-quality products and your feedback is invaluable in helping us improve. We have forwarded your comments to our product development team for review and consideration in future product enhancements.\n",
      "\n",
      "In the meantime, if you have any further questions or need assistance with your product, please do not hesitate to reach out to our customer service team. We are here to help.\n",
      "\n",
      "Once again, we apologize for any inconvenience caused and appreciate your understanding.\n",
      "\n",
      "Best Regards,\n",
      "\n",
      "AI Customer Support Agent\n"
     ]
    }
   ],
   "source": [
    "# Given the sentiment and the original customer review, customize an email response \n",
    "sentiment = response\n",
    "\n",
    "prompt2 = f\"\"\"\n",
    "You are a customer service AI assistant. \n",
    "Your task is to send an email reply to a valued customer. \n",
    "Generate a reply to thank the customer for their review. \n",
    "If the sentiment is positive or neutral, thank the customer for the review.\n",
    "If the sentiment is negative, apologize and suggest that \n",
    "the customer can reach out to customer service.\n",
    "Make sure to use specific details from the review.\n",
    "Write in a concise and professional tone.\n",
    "Sign the email as \"AI Customer Support Agent\".\n",
    "Customer review: ```{review}```\n",
    "Review sentiment: ```{sentiment}```\n",
    "\"\"\"\n",
    "# Get output at temperature = 0\n",
    "response = get_completion(prompt2)\n",
    "print(response)"
   ]
  },
  {
   "cell_type": "code",
   "execution_count": 5,
   "id": "4dd87130-3e46-468a-9eac-02939bd2ef27",
   "metadata": {},
   "outputs": [
    {
     "name": "stdout",
     "output_type": "stream",
     "text": [
      "Subject: Your Recent Product Review - We Value Your Feedback\n",
      "\n",
      "Dear Valued Customer,\n",
      "\n",
      "Thank you for taking the time to share your feedback regarding our air fryer. We are sorry to hear that your experience did not meet your expectations.\n",
      "\n",
      "We understand your concerns about the power and heat of the product, as well as the lack of certain features such as the mid-time flip notification and the cooling time when the timer finishes. We apologize for any inconvenience this may have caused you.\n",
      "\n",
      "Your feedback is extremely valuable to us as it helps us improve our products and services. We have forwarded your comments to our product development team for review and consideration in future product enhancements.\n",
      "\n",
      "If you have any further concerns or if there's anything else you'd like to discuss, please feel free to reach out to our customer service team. We are always here to assist you.\n",
      "\n",
      "Once again, we apologize for any inconvenience and appreciate your understanding.\n",
      "\n",
      "Best Regards,\n",
      "\n",
      "AI Customer Support Agent\n"
     ]
    }
   ],
   "source": [
    "# Another run at temperature = 0\n",
    "response = get_completion(prompt2)\n",
    "print(response)"
   ]
  },
  {
   "cell_type": "markdown",
   "id": "5cee01b7-15ae-47d2-8120-c3c97eae1fe3",
   "metadata": {},
   "source": [
    "## Varying Temperature"
   ]
  },
  {
   "cell_type": "code",
   "execution_count": 6,
   "id": "e2901a5e-7c71-4b0b-aded-478989c34411",
   "metadata": {},
   "outputs": [
    {
     "name": "stdout",
     "output_type": "stream",
     "text": [
      "Subject: Response to Your Recent Review \n",
      "\n",
      "Dear Valued Customer,\n",
      "\n",
      "Thank you for taking the time to provide us with your feedback. We sincerely apologize if our product did not meet your expectations.\n",
      "\n",
      "We understand your concerns about the power, heat, and additional features, such as the mid-time flip notification and the cooling time after the timer finished. These are indeed valuable points which we will relay to our product development team for their consideration in future product enhancements.\n",
      "\n",
      "We are sorry to hear that our product did not perform as well as your previous air fryer. Our goal is to provide products that meet and exceed our customers’ expectations and we regret that we missed the mark this time. \n",
      "\n",
      "We would appreciate the opportunity to resolve this issue. Please feel free to reach out to our customer service team at any time. They will be more than happy to discuss any further concerns or solutions to ensure your satisfaction.\n",
      "\n",
      "Once again, thank you for your feedback. It plays a vital role in our continuous efforts to improve our products and services.\n",
      "\n",
      "Best Regards,\n",
      "\n",
      "AI Customer Support Agent\n"
     ]
    }
   ],
   "source": [
    "# Get output at temperature = 0.7\n",
    "response = get_completion(prompt2, temp=0.7)\n",
    "print(response)"
   ]
  },
  {
   "cell_type": "code",
   "execution_count": 7,
   "id": "1d8b79df-d64d-4f83-8f1e-790d1f9f77f3",
   "metadata": {},
   "outputs": [
    {
     "name": "stdout",
     "output_type": "stream",
     "text": [
      "Subject: Your Recent Product Review - We Value Your Feedback\n",
      "\n",
      "Dear Valued Customer,\n",
      "\n",
      "Thank you for taking the time to share your thoughts about our air fryer. We're sorry to hear that the product did not meet your expectations. Your feedback is crucial in helping us improve our products and services.\n",
      "\n",
      "We understand your concern about the lack of power and heat and the missing features such as the mid-time flip notification and the cooling time function when the timer is finished. We also regret to learn that you found the performance of our air fryer unsatisfactory compared to your old Big Box air fryers.\n",
      "\n",
      "At our company, we strive to provide our customers with the best possible experience. We deeply apologize that our product fell short in this instance. We highly appreciate your feedback and will ensure it is sent to our product development team for review.\n",
      "\n",
      "Please do not hesitate to reach out to our customer service team via email or phone. We would be more than happy to assist you further, perhaps by offering a suitable alternative or resolving any issues you have with the current product.\n",
      "\n",
      "Once again, thank you for your feedback. We value your opinion and hope to serve you better in the future.\n",
      "\n",
      "Best Regards,\n",
      "\n",
      "AI Customer Support Agent\n"
     ]
    }
   ],
   "source": [
    "# Another run at temperature = 0.7\n",
    "response = get_completion(prompt2, temp=0.7)\n",
    "print(response)"
   ]
  },
  {
   "cell_type": "code",
   "execution_count": 8,
   "id": "85c4e459-bda1-49f7-baaf-51a6610eda34",
   "metadata": {},
   "outputs": [
    {
     "name": "stdout",
     "output_type": "stream",
     "text": [
      "Once upon a time, in the enchanted land of Syria, where golden sands whispered ancient tales, there was a world where time flowed backward. This wasn't a place of chaos, but one of second chances, where past regrets could be undone and broken hearts could mend.\n",
      "\n",
      "In this world lived a solitary poet named Hakeem. Hakeem was no ordinary poet, he was a Rewriter, a special kind of poet who could rewrite history in reverse verse. His quill was his wand; his words, the magic.\n",
      "\n",
      "Hakeem was a curious character with a heart full of compassion. His eyes held wisdom beyond his years, and a twinkle of wit, as if he knew a secret joke the world was yet to understand. He lived in a humble adobe, surrounded by scrolls of verse, each holding a story of regret undone and a heart mended.\n",
      "\n",
      "One day, a tearful girl named Leila came to Hakeem. She had a heart broken by a childhood friend who had moved away, leaving her alone. With a gentle smile, Hakeem picked up his magical quill. He started to weave words together; each verse he wrote rewound time a little, each rhyme mended a piece of Leila's heart.\n",
      "\n",
      "The magic of his words brought the friend back to the time before he moved away. The two friends shared laughter and stories, their bond stronger than before. Leila’s heart was mended, and her smile returned, brighter than ever.\n",
      "\n",
      "Hakeem, the Rewriter, continued his work through days and nights, and the world turned backward under his quill. His words brought solace and joy, mending hearts and undoing regrets. His story taught us all that time might not always work in our favor, but with wisdom, wit, and kindness, we can mend the most broken of hearts and find happiness in the most regretful of moments.\n"
     ]
    }
   ],
   "source": [
    "# expand an idea into a short story, be creative\n",
    "story_idea = f\"\"\"\n",
    "\"In a world where time flowed backward, a solitary poet rewrote history in reverse verse, \n",
    "mending broken hearts, and undoing past regrets with every word.\"\n",
    "\"\"\"\n",
    "\n",
    "prompt3 = f\"\"\"\n",
    "Expand the idea shared in the text below (delimted with triple backticks) \n",
    "to create a short story for children with 6th grade education. \n",
    "Use a wisdom, wit, and kindess in the style of Terry Pratchett.\n",
    "Assume the story took place in Syria.\n",
    "Keep your response to 300 words at the most.\n",
    "Text: ```{story_idea}```\n",
    "\"\"\"\n",
    "\n",
    "response = get_completion(prompt3, temp=0.7)\n",
    "print(response)"
   ]
  }
 ],
 "metadata": {
  "kernelspec": {
   "display_name": "Python 3 (ipykernel)",
   "language": "python",
   "name": "python3"
  },
  "language_info": {
   "codemirror_mode": {
    "name": "ipython",
    "version": 3
   },
   "file_extension": ".py",
   "mimetype": "text/x-python",
   "name": "python",
   "nbconvert_exporter": "python",
   "pygments_lexer": "ipython3",
   "version": "3.9.18"
  }
 },
 "nbformat": 4,
 "nbformat_minor": 5
}
