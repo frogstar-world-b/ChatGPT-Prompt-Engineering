{
 "cells": [
  {
   "cell_type": "markdown",
   "id": "e5963da9-b349-4461-9a60-364a6232dca0",
   "metadata": {},
   "source": [
    "This is a toy example for using prompt engineering to generate a summary of the input text.\n",
    "\n",
    "Here, the text is a product review. The product is an air fryer sold on amazon. \n",
    "\n",
    "We demonstrate summarizing the review, while focusing on different aspects such as price, shipping, and product color.\n",
    "    \n",
    "We also show how we can go beyond a summary and get an overall satisfaction score, then output a JSON."
   ]
  },
  {
   "cell_type": "code",
   "execution_count": 1,
   "id": "6c5cf5d0-199b-480e-ad38-76dd4c0fc340",
   "metadata": {},
   "outputs": [],
   "source": [
    "import openai\n",
    "import os\n",
    "\n",
    "from dotenv import load_dotenv, find_dotenv\n",
    "_ = load_dotenv(find_dotenv())\n",
    "openai.api_key = os.getenv(\"OPENAI_API_KEY\")"
   ]
  },
  {
   "cell_type": "code",
   "execution_count": 2,
   "id": "c7d688d7-32da-4bda-8104-59505913050a",
   "metadata": {},
   "outputs": [],
   "source": [
    "def get_completion(prompt, model=\"gpt-4\", temp=0):\n",
    "    \"\"\"\n",
    "    Generate a text completion using the OpenAI API.\n",
    "\n",
    "    Parameters:\n",
    "        prompt (str): The user's prompt or input text.\n",
    "        model (str, optional): The model to use (default is \"gpt-4\").\n",
    "        temp (float, optional): The temperature parameter controlling randomness (default is 0).\n",
    "\n",
    "    Returns:\n",
    "        str: The generated text completion.\n",
    "    \"\"\"\n",
    "    messages = [\n",
    "        {\"role\": \"user\", \n",
    "         \"content\": prompt}\n",
    "    ]\n",
    "    response = openai.chat.completions.create(\n",
    "        model=model,\n",
    "        messages=messages,\n",
    "        temperature=temp  \n",
    "    )\n",
    "    return response.choices[0].message.content"
   ]
  },
  {
   "cell_type": "code",
   "execution_count": 3,
   "id": "9f9a70b9-f266-4522-b7b6-a0e766b9bc21",
   "metadata": {},
   "outputs": [],
   "source": [
    "prod_review = f\"\"\"\n",
    "Arrived quickly. Large, yet compact, holds a large whole chicken, which is what I was seeking. \n",
    "I read the instruction manual from cover to cover. Washed the basket and tray \n",
    "and rackin warm soapy water, and have done the light coating of oil on the \n",
    "inside and the tray and running it for 15 min on highest heat, then will wash \n",
    "again. This should help keep the nonstick coating longer.\n",
    "It's super quiet!!! My old Instant air fryer 5.5 quart was loud.\n",
    "So far, very pleased! Worth the price!\n",
    "\"\"\""
   ]
  },
  {
   "cell_type": "markdown",
   "id": "a895e18e-7d7f-4db0-8b3c-1beff4b2c35e",
   "metadata": {},
   "source": [
    "## Summarizing"
   ]
  },
  {
   "cell_type": "code",
   "execution_count": 4,
   "id": "2eebeb1f-1bff-4ef9-a72c-fe299ccd2340",
   "metadata": {},
   "outputs": [
    {
     "name": "stdout",
     "output_type": "stream",
     "text": [
      "The product arrived quickly and is large yet compact, capable of holding a whole chicken. It's quieter than the user's old air fryer and is considered worth the price.\n"
     ]
    }
   ],
   "source": [
    "prompt1 = f\"\"\"\n",
    "Your task is to generate a short summary of a product review from \n",
    "an ecommerce site.\n",
    "\n",
    "Summarize the review below, delimited by triple backticks, in at most 30 words.\n",
    "\n",
    "Review: ```{prod_review}```\n",
    "\"\"\"\n",
    "\n",
    "response = get_completion(prompt1)\n",
    "print(response)"
   ]
  },
  {
   "cell_type": "code",
   "execution_count": 5,
   "id": "02d98454-5dea-40a8-84f8-b9af558ea874",
   "metadata": {},
   "outputs": [
    {
     "name": "stdout",
     "output_type": "stream",
     "text": [
      "The reviewer is very pleased with their purchase, highlighting the product's large capacity, quiet operation, and durability. They believe it is worth the price.\n"
     ]
    }
   ],
   "source": [
    "prompt2 = f\"\"\"\n",
    "Your task is to generate a short summary of a product review from \n",
    "an ecommerce site.\n",
    "\n",
    "Summarize the review below, delimited by triple backticks, in at most 30 words, \n",
    "focusing on any aspects that are relevant to the price and percieved value.\n",
    "\n",
    "Review: ```{prod_review}```\n",
    "\"\"\"\n",
    "\n",
    "response = get_completion(prompt2)\n",
    "print(response)"
   ]
  },
  {
   "cell_type": "code",
   "execution_count": 6,
   "id": "b07bb48b-9fde-43a0-bee9-831b453e01e5",
   "metadata": {},
   "outputs": [
    {
     "name": "stdout",
     "output_type": "stream",
     "text": [
      "The reviewer is pleased with the product's size, ability to hold a whole chicken, and quiet operation. They found the air fryer worth its price and appreciated its non-stick coating maintenance instructions.\n"
     ]
    }
   ],
   "source": [
    "# change the temperature to 0.5\n",
    "response = get_completion(prompt2, temp=0.5)\n",
    "print(response)"
   ]
  },
  {
   "cell_type": "code",
   "execution_count": 7,
   "id": "7ec1a016-ad6a-4a51-824c-5f1dfb981c6f",
   "metadata": {},
   "outputs": [
    {
     "name": "stdout",
     "output_type": "stream",
     "text": [
      "The product arrived quickly and despite a large size, it is compact. Perfect for cooking an entire chicken. It operates quietly compared to the user's older Instant air fryer. The user found it worth the price.\n"
     ]
    }
   ],
   "source": [
    "# change the temperature to 1\n",
    "response = get_completion(prompt2, temp=1)\n",
    "print(response)"
   ]
  },
  {
   "cell_type": "code",
   "execution_count": 8,
   "id": "bdda2b09-11bb-4e11-9535-00ea372ff533",
   "metadata": {},
   "outputs": [
    {
     "name": "stdout",
     "output_type": "stream",
     "text": [
      "The product arrived quickly and the customer is very pleased with it. They found it to be large yet compact, and appreciated its quiet operation.\n"
     ]
    }
   ],
   "source": [
    "prompt3 = f\"\"\"\n",
    "Your task is to generate a short summary of a product review from \n",
    "an ecommerce site.\n",
    "\n",
    "Summarize the review below, delimited by triple backticks, in at most 30 words, \n",
    "focusing on any aspects that are relevant to shipping and delivery.\n",
    "\n",
    "Review: ```{prod_review}```\n",
    "\"\"\"\n",
    "\n",
    "response = get_completion(prompt3)\n",
    "print(response)"
   ]
  },
  {
   "cell_type": "code",
   "execution_count": 9,
   "id": "718777a3-e384-4815-be32-287b3a2e93c2",
   "metadata": {},
   "outputs": [
    {
     "name": "stdout",
     "output_type": "stream",
     "text": [
      "The review does not mention anything about the product's color.\n"
     ]
    }
   ],
   "source": [
    "# What if the information you want is not in the review?\n",
    "prompt4 = f\"\"\"\n",
    "Your task is to generate a short summary of a product review from \n",
    "an ecommerce site.\n",
    "\n",
    "Summarize the review below, delimited by triple backticks, in at most 30 words, \n",
    "focusing on any aspects that are relevant to product color.\n",
    "\n",
    "Review: ```{prod_review}```\n",
    "\"\"\"\n",
    "\n",
    "\n",
    "response = get_completion(prompt4)\n",
    "print(response)"
   ]
  },
  {
   "cell_type": "markdown",
   "id": "9763b412-b035-44ea-b068-0e4d3b1ca69a",
   "metadata": {},
   "source": [
    "## Extracting"
   ]
  },
  {
   "cell_type": "code",
   "execution_count": 10,
   "id": "b7ad3926-ecbd-4a17-8bd6-1119b42c175b",
   "metadata": {},
   "outputs": [
    {
     "name": "stdout",
     "output_type": "stream",
     "text": [
      "The product arrived quickly. No other shipping or delivery details were mentioned in the review.\n"
     ]
    }
   ],
   "source": [
    "prompt5 = f\"\"\"\n",
    "Your task is to extract relevant information from a product review from \n",
    "an ecommerce site to give feedback to the Shipping department.\n",
    "\n",
    "Summarize the review below, delimited by triple backticks, in at most 30 words, \n",
    "focusing on any aspects that are relevant to shipping and delivery.\n",
    "\n",
    "Review: ```{prod_review}```\n",
    "\"\"\"\n",
    "\n",
    "response = get_completion(prompt5)\n",
    "print(response)"
   ]
  },
  {
   "cell_type": "markdown",
   "id": "d5337c9f-c756-4908-a664-55296b866b09",
   "metadata": {},
   "source": [
    "## Summarize Many Reviews"
   ]
  },
  {
   "cell_type": "code",
   "execution_count": 11,
   "id": "1832d989-2105-4251-adfa-19f943015126",
   "metadata": {},
   "outputs": [],
   "source": [
    "review_1 = prod_review\n",
    "\n",
    "review_2 = f\"\"\"\n",
    "This air fryer has been amazing! I’m sorry we didn’t get one this big sooner for our family. \n",
    "It’s quick and easy to use and extremely easy to clean! We used it at least once daily.\n",
    "\"\"\"\n",
    "\n",
    "review_3 = f\"\"\"\n",
    "The size is great. The build quality seems to be very good. I even like the looks, but as some \n",
    "others have said, the control panel's responsiveness to the touch is poor. I've found that \n",
    "touching one finger on the metal frame and using another finger on the control button works \n",
    "better than just using one finger. But once you get past the control panel difficulties the unit \n",
    "cooks very nicely.\n",
    "\"\"\"\n",
    "\n",
    "review_4 = f\"\"\"\n",
    "The positive thing is the size. But it lacks the power/heat. Needs to be 500w/1800+ . \n",
    "I noticed that fries and other items take longer in this fryer/not as crispy. It also lacks \n",
    "features that other fryers have .\n",
    "- No mid time flip notification\n",
    "- when time is finished it just shuts down / my other air fryer had a cooling time when timer \n",
    "finished. Meaning the internal fan would keep running until the unit cooled down/this one does \n",
    "Not have that.\n",
    "I would probably prefer my old Big Box air fryers and give up the size of this one.\n",
    "\"\"\"\n",
    "\n",
    "review_5 = f\"\"\"\n",
    "Was in the middle of cooking burgers and it just turned off and stayed off after owning it for \n",
    "less than a month. Prior to it just dying on me, it truly was the most used gadget in my kitchen. \n",
    "More than my microwave/stove/oven. This thing is huge, it cooks large batches of food very well, \n",
    "the 10x10 liners you can buy keep you from having to clean it after every use. Its so good i would \n",
    "buy a second one (i eat carnivore and even with this capacity i could use another for meal prep). \n",
    "If it didnt die would be 5* plus. If the second one lasts i will change my review\n",
    "\n",
    "*Edit - customer service reached out to me upon seeing this review and offered to refund or replace \n",
    "and were genuinely concerned as to what the issue could have been. That is super cool! Will definitely \n",
    "upgrade my review based on the replacement model when it arrives. For now i will keep it at 3*\n",
    "\"\"\"\n",
    "\n",
    "reviews = [review_1, review_2, review_3, review_4, review_5]"
   ]
  },
  {
   "cell_type": "code",
   "execution_count": 12,
   "id": "ebb36819-0f18-4665-a842-817976f269dc",
   "metadata": {},
   "outputs": [
    {
     "name": "stdout",
     "output_type": "stream",
     "text": [
      "0 The product arrived fast, is large but compact, and can hold a whole chicken. It's quieter than previous models and worth the price.\n",
      "1 The reviewer highly recommends the air fryer for its size, ease of use, and easy cleaning, using it daily.\n",
      "2 The product has a good size and build quality, attractive design, but the control panel's touch responsiveness is poor.\n",
      "3 The reviewer appreciates the size of the air fryer but criticizes its lack of power, heat, and features, including no flip notification and cooling time.\n",
      "4 The customer loved the product's large capacity and efficiency but it stopped working within a month. However, customer service offered a refund or replacement.\n"
     ]
    }
   ],
   "source": [
    "for i in range(len(reviews)):\n",
    "    prompt = f\"\"\"\n",
    "    Your task is to generate a short summary of a product \n",
    "    review from an ecommerce site.\n",
    "\n",
    "    Summarize the review below, delimited by triple backticks in at most 20 words.\n",
    "\n",
    "    Review: ```{reviews[i]}```\n",
    "    \"\"\"\n",
    "    response = get_completion(prompt)\n",
    "    print(i, response)"
   ]
  },
  {
   "cell_type": "code",
   "execution_count": 13,
   "id": "01bf03d7-23de-4f8f-9c12-8fd56c6537db",
   "metadata": {},
   "outputs": [
    {
     "name": "stdout",
     "output_type": "stream",
     "text": [
      "0 {\"Summary\": \"The product arrived quickly, is large but compact, holds a whole chicken, and is quieter than previous models. Very satisfied.\", \"Score\": 5}\n",
      "1 {\"Summary\": \"The air fryer is highly appreciated for its size, ease of use, and cleanliness.\", \"Score\": 5}\n",
      "2 {\"Summary\": \"Good size and build quality, attractive design, but control panel responsiveness is poor. Cooks well once past control issues.\", \"Score\": 4}\n",
      "3 {\"Summary\": \"The reviewer appreciates the size of the air fryer but criticizes its lack of power, heat, and features.\", \"Score\": 2}\n",
      "4 {\"Summary\": \"The product stopped working within a month but was highly useful. Customer service offered a refund or replacement.\", \"Score\": 3}\n"
     ]
    }
   ],
   "source": [
    "# output as JSON\n",
    "for i in range(len(reviews)):\n",
    "    prompt = f\"\"\"\n",
    "    Your task is to generate a short summary of a product \n",
    "    review from an ecommerce site.\n",
    "\n",
    "    Summarize the review below, delimited by triple backticks in at most 20 words.\n",
    "\n",
    "    Also, provide an overall satisfaction score from 1 to 5, where 5 is best.\n",
    "\n",
    "    Return a json with keys: Summary, and Score, with values summary and satisfaciton score, \n",
    "    respectively.\n",
    "\n",
    "    Review: ```{reviews[i]}```\n",
    "    \"\"\"\n",
    "    response = get_completion(prompt)\n",
    "    print(i, response)"
   ]
  }
 ],
 "metadata": {
  "kernelspec": {
   "display_name": "Python 3 (ipykernel)",
   "language": "python",
   "name": "python3"
  },
  "language_info": {
   "codemirror_mode": {
    "name": "ipython",
    "version": 3
   },
   "file_extension": ".py",
   "mimetype": "text/x-python",
   "name": "python",
   "nbconvert_exporter": "python",
   "pygments_lexer": "ipython3",
   "version": "3.9.18"
  }
 },
 "nbformat": 4,
 "nbformat_minor": 5
}
